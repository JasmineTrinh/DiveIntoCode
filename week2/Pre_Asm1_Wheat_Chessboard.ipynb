{
 "cells": [
  {
   "cell_type": "markdown",
   "id": "configured-administrator",
   "metadata": {},
   "source": [
    "## [Problem 1] Number of wheat on a 2 x 2 square chess board\n",
    "Represent a 2 x 2 square chessboard by ndarray and calculate the number of wheat in each square. After placing one wheat on the upper left square, proceed to two to the right, four to the lower left, and eight to the lower right."
   ]
  },
  {
   "cell_type": "code",
   "execution_count": 1,
   "id": "apparent-wireless",
   "metadata": {},
   "outputs": [],
   "source": [
    "import numpy as np\n",
    "import matplotlib.pyplot as plt\n",
    "%matplotlib inline"
   ]
  },
  {
   "cell_type": "code",
   "execution_count": 2,
   "id": "intelligent-acting",
   "metadata": {},
   "outputs": [
    {
     "name": "stdout",
     "output_type": "stream",
     "text": [
      "Arrange wheat on a plate of 4 squares (ndarray)：\n",
      "[[1 2]\n",
      " [4 8]]\n"
     ]
    }
   ],
   "source": [
    "n_squares = 4\n",
    "index = 0\n",
    "small_board_list = []\n",
    "\n",
    "while index < n_squares:\n",
    "    small_board_list.append(2**index)\n",
    "    index += 1\n",
    "\n",
    "small_board_ndarray = np.array(small_board_list).reshape(2,2)\n",
    "print(\"Arrange wheat on a plate of 4 squares (ndarray)：\\n{}\".format(small_board_ndarray))"
   ]
  },
  {
   "cell_type": "markdown",
   "id": "scenic-russell",
   "metadata": {},
   "source": [
    "## [Problem 2] Expansion to n × m mass\n",
    "Create a function that returns a ndarray containing the number of wheat on an nxm chess board. Then use this function to find the number of wheat on the 8x8 square chess board."
   ]
  },
  {
   "cell_type": "code",
   "execution_count": 3,
   "id": "boolean-plate",
   "metadata": {},
   "outputs": [],
   "source": [
    "def chess_board(n,m):\n",
    "    n_squares = n*m\n",
    "    index = 0\n",
    "    chess_board_list = []\n",
    "    \n",
    "    while index < n_squares:\n",
    "        chess_board_list.append(2**index)\n",
    "        index += 1\n",
    "\n",
    "    return chess_board_list"
   ]
  },
  {
   "cell_type": "code",
   "execution_count": 4,
   "id": "primary-scanning",
   "metadata": {
    "scrolled": true
   },
   "outputs": [
    {
     "name": "stdout",
     "output_type": "stream",
     "text": [
      "Arrange wheat on a plate of 64 squares (ndarray)：\n",
      "[[1.00000000e+00 2.00000000e+00 4.00000000e+00 8.00000000e+00\n",
      "  1.60000000e+01 3.20000000e+01 6.40000000e+01 1.28000000e+02]\n",
      " [2.56000000e+02 5.12000000e+02 1.02400000e+03 2.04800000e+03\n",
      "  4.09600000e+03 8.19200000e+03 1.63840000e+04 3.27680000e+04]\n",
      " [6.55360000e+04 1.31072000e+05 2.62144000e+05 5.24288000e+05\n",
      "  1.04857600e+06 2.09715200e+06 4.19430400e+06 8.38860800e+06]\n",
      " [1.67772160e+07 3.35544320e+07 6.71088640e+07 1.34217728e+08\n",
      "  2.68435456e+08 5.36870912e+08 1.07374182e+09 2.14748365e+09]\n",
      " [4.29496730e+09 8.58993459e+09 1.71798692e+10 3.43597384e+10\n",
      "  6.87194767e+10 1.37438953e+11 2.74877907e+11 5.49755814e+11]\n",
      " [1.09951163e+12 2.19902326e+12 4.39804651e+12 8.79609302e+12\n",
      "  1.75921860e+13 3.51843721e+13 7.03687442e+13 1.40737488e+14]\n",
      " [2.81474977e+14 5.62949953e+14 1.12589991e+15 2.25179981e+15\n",
      "  4.50359963e+15 9.00719925e+15 1.80143985e+16 3.60287970e+16]\n",
      " [7.20575940e+16 1.44115188e+17 2.88230376e+17 5.76460752e+17\n",
      "  1.15292150e+18 2.30584301e+18 4.61168602e+18 9.22337204e+18]]\n"
     ]
    }
   ],
   "source": [
    "n=8\n",
    "m=8\n",
    "board_list = chess_board(n,m)\n",
    "board_ndarray = np.array(board_list).reshape(n,m)\n",
    "print(\"Arrange wheat on a plate of {} squares (ndarray)：\\n{}\".format(n*m,board_ndarray))"
   ]
  },
  {
   "cell_type": "markdown",
   "id": "appreciated-advancement",
   "metadata": {},
   "source": [
    "## [Problem 3] Total number of wheat\n",
    "Find the total number of wheat on a chess board of 8 x 8 squares. Also, find the average of each column and visualize it in a bar chart."
   ]
  },
  {
   "cell_type": "code",
   "execution_count": 5,
   "id": "turkish-retro",
   "metadata": {},
   "outputs": [],
   "source": [
    "def total_wheat(n,m):\n",
    "    index = 0\n",
    "    total = 0\n",
    "    board_list = chess_board(n,m)\n",
    "    \n",
    "    while index < n*m:\n",
    "        total += board_list[index]\n",
    "        index += 1\n",
    "    \n",
    "    return total"
   ]
  },
  {
   "cell_type": "code",
   "execution_count": 6,
   "id": "fitting-triangle",
   "metadata": {},
   "outputs": [
    {
     "name": "stdout",
     "output_type": "stream",
     "text": [
      "Total wheat on a 64 squares chess board: 18446744073709551615\n"
     ]
    }
   ],
   "source": [
    "n=8\n",
    "m=8\n",
    "total = total_wheat(n,m)\n",
    "print(\"Total wheat on a {} squares chess board: {}\".format(n*m,total))"
   ]
  },
  {
   "cell_type": "code",
   "execution_count": 7,
   "id": "organized-tampa",
   "metadata": {},
   "outputs": [],
   "source": [
    "def col_average(n,m):\n",
    "    index = 0\n",
    "    average_list = []\n",
    "    board_list = chess_board(n,m)\n",
    "    board_ndarray = np.array(board_list).reshape(n,m)\n",
    "    \n",
    "    while index < m:\n",
    "        average_list.append(sum(board_ndarray[:,index])/m)\n",
    "        index += 1\n",
    "    \n",
    "    average = np.array(average_list)\n",
    "        \n",
    "    return average"
   ]
  },
  {
   "cell_type": "code",
   "execution_count": 8,
   "id": "likely-contamination",
   "metadata": {},
   "outputs": [
    {
     "name": "stdout",
     "output_type": "stream",
     "text": [
      "[9.04252160e+15 1.80850432e+16 3.61700864e+16 7.23401728e+16\n",
      " 1.44680346e+17 2.89360691e+17 5.78721383e+17 1.15744277e+18]\n"
     ]
    }
   ],
   "source": [
    "n = 8\n",
    "m = 8\n",
    "\n",
    "average = col_average(n,m)\n",
    "print(average)"
   ]
  },
  {
   "cell_type": "code",
   "execution_count": 9,
   "id": "prerequisite-parameter",
   "metadata": {},
   "outputs": [
    {
     "data": {
      "image/png": "[encoded data removed]",
      "text/plain": [
       "<Figure size 432x288 with 1 Axes>"
      ]
     },
     "metadata": {
      "needs_background": "light"
     },
     "output_type": "display_data"
    }
   ],
   "source": [
    "plt.xlabel(\"column\")\n",
    "plt.ylabel(\"number\")\n",
    "plt.title(\"the average of each column\")\n",
    "plt.bar(np.arange(len(average)),average,color='y')\n",
    "plt.show()"
   ]
  },
  {
   "cell_type": "markdown",
   "id": "broke-toyota",
   "metadata": {},
   "source": [
    "## [Problem 4] Heat map of the number of wheat\n",
    "Visualize the number of wheat on the 8x8 chess board as a heat map."
   ]
  },
  {
   "cell_type": "code",
   "execution_count": 10,
   "id": "bulgarian-ministry",
   "metadata": {},
   "outputs": [
    {
     "data": {
      "image/png": "[encoded data removed]",
      "text/plain": [
       "<Figure size 432x288 with 2 Axes>"
      ]
     },
     "metadata": {
      "needs_background": "light"
     },
     "output_type": "display_data"
    }
   ],
   "source": [
    "plt.xlabel(\"column\")\n",
    "plt.ylabel(\"row\")\n",
    "plt.title(\"heatmap\")\n",
    "\n",
    "plt.pcolor(board_ndarray)\n",
    "plt.colorbar()\n",
    "plt.show()"
   ]
  },
  {
   "cell_type": "markdown",
   "id": "floral-carolina",
   "metadata": {},
   "source": [
    "## [Problem 5] How many times is the second half as long as the first half?\n",
    "Find how many times the number of wheat in the second half of the chessboard is greater than the number of wheat in the first half. The first half is lines 0 to 3 of the array, and the second half is lines 4 to 7."
   ]
  },
  {
   "cell_type": "code",
   "execution_count": 11,
   "id": "celtic-license",
   "metadata": {},
   "outputs": [
    {
     "name": "stdout",
     "output_type": "stream",
     "text": [
      "The first half: 4278190080.0\n",
      "The second half: 1.8446744073692774e+19\n",
      "The second half number of wheat is 4311810305.0 times larger than the first half\n"
     ]
    }
   ],
   "source": [
    "first_half = sum(board_ndarray[3,:])\n",
    "second_half = board_ndarray[3:,:].sum()\n",
    "print(\"The first half: {}\".format(first_half))\n",
    "print(\"The second half: {}\".format(second_half))\n",
    "print(\"The second half number of wheat is {} times larger than the first half\"\n",
    "      .format(second_half/first_half))"
   ]
  },
  {
   "cell_type": "markdown",
   "id": "lined-athletics",
   "metadata": {},
   "source": [
    "## [Problem 6] Expansion to n × m mass by another calculation method\n",
    "Create a new function similar to Problem 2 that returns an ndarray containing the number of wheat squares on an n×m chessboard, one usingnp.append ()and one using broadcast."
   ]
  },
  {
   "cell_type": "code",
   "execution_count": 49,
   "id": "military-sauce",
   "metadata": {},
   "outputs": [],
   "source": [
    "def append_chess_board(n,m):\n",
    "    n_squares = n*m\n",
    "    append_board_ndarray = np.array([1])\n",
    "    \n",
    "    for _ in range(n_squares-1):\n",
    "        append_board_ndarray = np.append(append_board_ndarray,2*append_board_ndarray[-1])\n",
    "    \n",
    "    return append_board_ndarray"
   ]
  },
  {
   "cell_type": "code",
   "execution_count": 50,
   "id": "supreme-tsunami",
   "metadata": {},
   "outputs": [
    {
     "name": "stdout",
     "output_type": "stream",
     "text": [
      "Arrange wheat on a plate of 16 squares (ndarray)：\n",
      "[    1     2     4     8    16    32    64   128   256   512  1024  2048\n",
      "  4096  8192 16384 32768]\n"
     ]
    }
   ],
   "source": [
    "n,m = 4,4\n",
    "append_board_ndarray = append_chess_board(n,m)\n",
    "print(\"Arrange wheat on a plate of {} squares (ndarray)：\\n{}\".format(n*m,append_board_ndarray))"
   ]
  },
  {
   "cell_type": "code",
   "execution_count": 47,
   "id": "empirical-harvard",
   "metadata": {},
   "outputs": [],
   "source": [
    "def broadcast_chess_board(n,m):\n",
    "    n_squares = n*m\n",
    "    indices_of_squares = np.arange(n_squares)\n",
    "    return 2**(indices_of_squares)"
   ]
  },
  {
   "cell_type": "code",
   "execution_count": 48,
   "id": "promising-employer",
   "metadata": {},
   "outputs": [
    {
     "name": "stdout",
     "output_type": "stream",
     "text": [
      "Arrange wheat on a plate of 16 squares (ndarray)：\n",
      "[    1     2     4     8    16    32    64   128   256   512  1024  2048\n",
      "  4096  8192 16384 32768]\n"
     ]
    }
   ],
   "source": [
    "n,m = 4,4\n",
    "broadcast_board = broadcast_chess_board(n,m)\n",
    "print(\"Arrange wheat on a plate of {} squares (ndarray)：\\n{}\".format(n*m,broadcast_board))"
   ]
  },
  {
   "cell_type": "markdown",
   "id": "numerous-section",
   "metadata": {},
   "source": [
    "## [Problem 7] Comparing calculation times\n",
    "We've seen three different ways. Each calculation time of Jupyter Notebook %%timeit\n",
    "\n",
    "Please measure using and compare and consider."
   ]
  },
  {
   "cell_type": "code",
   "execution_count": 54,
   "id": "honest-glucose",
   "metadata": {},
   "outputs": [
    {
     "name": "stdout",
     "output_type": "stream",
     "text": [
      "86 µs ± 1.53 µs per loop (mean ± std. dev. of 7 runs, 10000 loops each)\n"
     ]
    }
   ],
   "source": [
    "%%timeit\n",
    "n,m = 4,4\n",
    "append_board_ndarray = append_chess_board(n,m)\n",
    "#print(\"Arrange wheat on a plate of {} squares (ndarray)：\\n{}\".format(n*m,append_board_ndarray))"
   ]
  },
  {
   "cell_type": "code",
   "execution_count": 55,
   "id": "upper-psychology",
   "metadata": {},
   "outputs": [
    {
     "name": "stdout",
     "output_type": "stream",
     "text": [
      "1.59 µs ± 26.2 ns per loop (mean ± std. dev. of 7 runs, 1000000 loops each)\n"
     ]
    }
   ],
   "source": [
    "%%timeit\n",
    "n,m = 4,4\n",
    "broadcast_board = broadcast_chess_board(n,m)\n",
    "# print(\"Arrange wheat on a plate of {} squares (ndarray)：\\n{}\".format(n*m,broadcast_board))"
   ]
  },
  {
   "cell_type": "markdown",
   "id": "designing-mineral",
   "metadata": {},
   "source": [
    "> After measure the execution time, we can see that broadcasting will be faster than using append()"
   ]
  }
 ],
 "metadata": {
  "kernelspec": {
   "display_name": "Python 3",
   "language": "python",
   "name": "python3"
  },
  "language_info": {
   "codemirror_mode": {
    "name": "ipython",
    "version": 3
   },
   "file_extension": ".py",
   "mimetype": "text/x-python",
   "name": "python",
   "nbconvert_exporter": "python",
   "pygments_lexer": "ipython3",
   "version": "3.7.7"
  }
 },
 "nbformat": 4,
 "nbformat_minor": 5
}
