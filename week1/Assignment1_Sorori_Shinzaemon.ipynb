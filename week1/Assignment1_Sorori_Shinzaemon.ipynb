{
 "cells": [
  {
   "cell_type": "markdown",
   "id": "sharing-greenhouse",
   "metadata": {},
   "source": [
    "## 【Problem 1] Number of grains of rice on the 100th day\n",
    "Create a code to calculate how many grains of rice you receive in **total on the 100th day**, and output the answer. \n",
    "\n",
    "Also, use a line graph to represent the change in the number of rice grains you receive on that day and the total number of rice grains you receive by that day from day 1 to day 100."
   ]
  },
  {
   "cell_type": "code",
   "execution_count": 1,
   "id": "pointed-grove",
   "metadata": {},
   "outputs": [
    {
     "name": "stdout",
     "output_type": "stream",
     "text": [
      "On the 100th day, we'll recieve 633825300114114700748351602688 grains of rice\n"
     ]
    }
   ],
   "source": [
    "DATE = 100\n",
    "total_grains = 2**(DATE-1)\n",
    "print(\"On the 100th day, we'll recieve {} grains of rice\".format(total_grains))"
   ]
  },
  {
   "cell_type": "code",
   "execution_count": 2,
   "id": "pleasant-substitute",
   "metadata": {},
   "outputs": [],
   "source": [
    "index = 1\n",
    "total_grains_list = []\n",
    "rice = 1\n",
    "total_grains_list.append(rice)\n",
    "for index in range(DATE-1):\n",
    "    rice *= 2\n",
    "    total_grains_list.append(rice)\n",
    "    index += 1\n",
    "# print(len(total_grains_list))\n",
    "# print(total_grains_list[-1])"
   ]
  },
  {
   "cell_type": "code",
   "execution_count": 3,
   "id": "ordinary-video",
   "metadata": {},
   "outputs": [
    {
     "data": {
      "image/png": "[encoded data removed]",
      "text/plain": [
       "<Figure size 432x288 with 1 Axes>"
      ]
     },
     "metadata": {
      "needs_background": "light"
     },
     "output_type": "display_data"
    }
   ],
   "source": [
    "import matplotlib.pyplot as plt\n",
    "%matplotlib inline\n",
    "plt.title(\"Number of grains of rice from day 1 to day 100\")\n",
    "plt.xlabel(\"number of days\")\n",
    "plt.xlim(1,DATE+1)\n",
    "plt.ylabel(\"number of grains of rice\")\n",
    "plt.plot(total_grains_list) # Enter the variable name of the list in \"List name\"\n",
    "plt.show()"
   ]
  },
  {
   "cell_type": "markdown",
   "id": "irish-perry",
   "metadata": {},
   "source": [
    "## 【Problem 2] Number of rice grains outside of the 100th day\n",
    "Let's create a function that takes the number of days as an argument so that it can be used for any story. After creating the function, answer how many grains of rice you can get for the number of days you take the course. \n",
    "\n",
    "As in the previous question, you should also output a line graph."
   ]
  },
  {
   "cell_type": "code",
   "execution_count": 4,
   "id": "growing-experience",
   "metadata": {},
   "outputs": [],
   "source": [
    "rice = 1\n",
    "list_n_grains = [rice]\n",
    "list_total_grains = [list_n_grains[0]]\n",
    "index = 1"
   ]
  },
  {
   "cell_type": "code",
   "execution_count": 5,
   "id": "copyrighted-canyon",
   "metadata": {},
   "outputs": [],
   "source": [
    "def compute_sorori_shinzaemon(day=100):\n",
    "    for index in range(day-1):\n",
    "        list_n_grains.append(list_n_grains[-1]*2)\n",
    "        list_total_grains.append(list_n_grains[-1]+list_total_grains[-1])\n",
    "        index += 1\n",
    "    return list_n_grains, list_total_grains"
   ]
  },
  {
   "cell_type": "code",
   "execution_count": 6,
   "id": "supreme-tourism",
   "metadata": {},
   "outputs": [
    {
     "name": "stdout",
     "output_type": "stream",
     "text": [
      "On day 50, we'll receive 562949953421312 grains of rice\n",
      "After 50 days, we'll receive 1125899906842623 grains of rice in total\n"
     ]
    },
    {
     "data": {
      "image/png": "[encoded data removed]",
      "text/plain": [
       "<Figure size 432x288 with 1 Axes>"
      ]
     },
     "metadata": {
      "needs_background": "light"
     },
     "output_type": "display_data"
    }
   ],
   "source": [
    "day = 50\n",
    "compute_sorori_shinzaemon(day)\n",
    "\n",
    "print(\"On day {}, we'll receive {} grains of rice\".format(day, list_n_grains[-1]))\n",
    "print(\"After {} days, we'll receive {} grains of rice in total\".format(day, list_total_grains[-1]))\n",
    "\n",
    "plt.title(\"Sorori Shinzaemon's rice\")\n",
    "plt.xlabel(\"number of days\")\n",
    "plt.ylabel(\"grains of rice\")\n",
    "plt.plot(range(1, day + 1), list_n_grains, label = \"One day\")\n",
    "plt.plot(range(1, day + 1), list_total_grains, label = \"Total\")\n",
    "plt.legend(loc='best')\n",
    "plt.show()"
   ]
  },
  {
   "cell_type": "markdown",
   "id": "annoying-perry",
   "metadata": {},
   "source": [
    "## 【Problem 3] How many people can live for how many days with the rice we get?\n",
    "Create a function to calculate how many people can live for how many days with this rice. Output how many days the number of people in this class can live with the grains of rice they receive for the duration of the course."
   ]
  },
  {
   "cell_type": "markdown",
   "id": "manual-hollywood",
   "metadata": {},
   "source": [
    ">According to *Freerice*, it takes about 400g of rice to feed an adult in a day.\n",
    "Since a grain of rice weight about +/-45g, we will need about 19200 grains of rice to feed an adult in a day"
   ]
  },
  {
   "cell_type": "code",
   "execution_count": 7,
   "id": "artificial-amazon",
   "metadata": {},
   "outputs": [],
   "source": [
    "# 19200 grains for an adult in a day\n",
    "def calculate(n_grains, n_people):\n",
    "    grains_per_person_per_day = 19200\n",
    "    grains_per_day = n_people * grains_per_person_per_day\n",
    "    \n",
    "    n_days = n_grains / grains_per_day\n",
    "    return n_days"
   ]
  },
  {
   "cell_type": "code",
   "execution_count": 18,
   "id": "spatial-inquiry",
   "metadata": {},
   "outputs": [
    {
     "name": "stdout",
     "output_type": "stream",
     "text": [
      "For 29 people, they will be able to live 1928.42 days with 1073741823 grains of rice\n"
     ]
    }
   ],
   "source": [
    "days=30\n",
    "people = 29\n",
    "compute_sorori_shinzaemon(days)\n",
    "# print(list_total_grains)\n",
    "n_grains = list_total_grains[days-1]\n",
    "n_days_to_live = calculate(n_grains, people)\n",
    "print(\"For {} people, they will be able to live {:.2f} days with {} grains of rice\".format(people, n_days_to_live, n_grains))"
   ]
  }
 ],
 "metadata": {
  "kernelspec": {
   "display_name": "Python 3",
   "language": "python",
   "name": "python3"
  },
  "language_info": {
   "codemirror_mode": {
    "name": "ipython",
    "version": 3
   },
   "file_extension": ".py",
   "mimetype": "text/x-python",
   "name": "python",
   "nbconvert_exporter": "python",
   "pygments_lexer": "ipython3",
   "version": "3.7.7"
  }
 },
 "nbformat": 4,
 "nbformat_minor": 5
}
