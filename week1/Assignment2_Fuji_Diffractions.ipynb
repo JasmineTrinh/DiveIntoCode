{
 "cells": [
  {
   "cell_type": "markdown",
   "id": "statewide-bouquet",
   "metadata": {},
   "source": [
    "## [Problem 1] Minimum number of folds over Mt. Fuji\n",
    "Create a program that calculates how many times the paper will fold when the thickness exceeds \"Mt. Fuji (3776m)\"."
   ]
  },
  {
   "cell_type": "code",
   "execution_count": 1,
   "id": "starting-conservative",
   "metadata": {},
   "outputs": [],
   "source": [
    "import math\n",
    "\n",
    "THICKNESS = 0.00008\n",
    "MOON_DIST = 384400000\n",
    "FUJI_HEIGHT = 3776\n",
    "STAR_DIST = 4.22*(9.46*10**15)\n",
    "folds = 0"
   ]
  },
  {
   "cell_type": "code",
   "execution_count": 2,
   "id": "intensive-drama",
   "metadata": {},
   "outputs": [
    {
     "name": "stdout",
     "output_type": "stream",
     "text": [
      "After folding 26 times, the paper's thickness will be 5368.70912m, which exceeds Mt.Fuji.\n"
     ]
    }
   ],
   "source": [
    "folded_thickness = THICKNESS\n",
    "while folded_thickness <= FUJI_HEIGHT:\n",
    "    folds += 1\n",
    "    folded_thickness *= 2\n",
    "print(\"After folding {} times, the paper's thickness will be {}m, which exceeds Mt.Fuji.\".format(folds,folded_thickness))"
   ]
  },
  {
   "cell_type": "markdown",
   "id": "sustainable-china",
   "metadata": {},
   "source": [
    "## [Problem 2] Creating a function corresponding to an arbitrary thickness\n",
    "Create a function that inputs the distance and outputs how many times it bends. As an argument, the thickness before folding $t_0$\n",
    "Let's also be able to Settings."
   ]
  },
  {
   "cell_type": "code",
   "execution_count": 3,
   "id": "affiliated-coordinator",
   "metadata": {},
   "outputs": [],
   "source": [
    "def calculate_diffraction(meters):\n",
    "    diffraction = 0\n",
    "    while meters > THICKNESS:\n",
    "        diffraction += 1\n",
    "        meters /= 2\n",
    "    return diffraction"
   ]
  },
  {
   "cell_type": "markdown",
   "id": "fluid-hampton",
   "metadata": {},
   "source": [
    ">According to *space.com*, Proxima Centauri, which is the closest non-Sun star, is about $4.22$ light-years away from Earth.\n",
    "So in order to convert light-years to meters, we need to use the scientific notation. As we've known, the speed of light $= 3\\times10^8$m, so $1$ light-year $= 9.46\\times10^{15}$m"
   ]
  },
  {
   "cell_type": "code",
   "execution_count": 4,
   "id": "catholic-plant",
   "metadata": {},
   "outputs": [
    {
     "name": "stdout",
     "output_type": "stream",
     "text": [
      "With the thickness of 3.99212e+16m, the paper was folded approximately 69 times\n"
     ]
    }
   ],
   "source": [
    "n_diffraction = calculate_diffraction(STAR_DIST)\n",
    "print(\"With the thickness of {}m, the paper was folded approximately {} times\".format(STAR_DIST, n_diffraction))"
   ]
  },
  {
   "cell_type": "markdown",
   "id": "noble-static",
   "metadata": {},
   "source": [
    "## [Problem 3] Required paper length\n",
    "create a function that finds the length of paper needed to actually fold the paper and reach any thickness."
   ]
  },
  {
   "cell_type": "code",
   "execution_count": 5,
   "id": "sorted-friendly",
   "metadata": {},
   "outputs": [],
   "source": [
    "def calculate_length(folded_thickness):\n",
    "    folds = calculate_diffraction(folded_thickness)\n",
    "    length = (math.pi*folded_thickness/6)*(2^folds + 4)*(2^folds - 1)\n",
    "    return length"
   ]
  },
  {
   "cell_type": "code",
   "execution_count": 6,
   "id": "official-satisfaction",
   "metadata": {
    "scrolled": true
   },
   "outputs": [
    {
     "name": "stdout",
     "output_type": "stream",
     "text": [
      "With the thickness of 3776m in order to reach Mt.Fuji's height, the paper length is about 1494694.3863543374 meters\n",
      "With the thickness of 384400000m in order to reach the moon, the paper length is about 362288464811.975 meters\n",
      "With the thickness of 3.99212e+16m in order to reach the closest non-sun star, the paper length is about 1.0973913006217775e+20 meters\n"
     ]
    }
   ],
   "source": [
    "fuji_length = calculate_length(FUJI_HEIGHT)\n",
    "moon_length = calculate_length(MOON_DIST)\n",
    "star_length = calculate_length(STAR_DIST)\n",
    "print(\"With the thickness of {}m in order to reach Mt.Fuji's height, the paper length is about {} meters\".format(FUJI_HEIGHT, fuji_length))\n",
    "print(\"With the thickness of {}m in order to reach the moon, the paper length is about {} meters\".format(MOON_DIST, moon_length))\n",
    "print(\"With the thickness of {}m in order to reach the closest non-sun star, the paper length is about {} meters\".format(STAR_DIST, star_length))"
   ]
  }
 ],
 "metadata": {
  "kernelspec": {
   "display_name": "Python 3",
   "language": "python",
   "name": "python3"
  },
  "language_info": {
   "codemirror_mode": {
    "name": "ipython",
    "version": 3
   },
   "file_extension": ".py",
   "mimetype": "text/x-python",
   "name": "python",
   "nbconvert_exporter": "python",
   "pygments_lexer": "ipython3",
   "version": "3.7.7"
  }
 },
 "nbformat": 4,
 "nbformat_minor": 5
}
