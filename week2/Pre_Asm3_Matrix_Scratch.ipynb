{
 "cells": [
  {
   "cell_type": "markdown",
   "id": "empirical-commercial",
   "metadata": {},
   "source": [
    " $$A = \\left [\\begin {array} {ccc} -1 & 2 & 3 \\\\ 4 & -5 & 6 \\\\ 7 & 8 & -9 \\end {array} \\right], B = \\left [\\begin {array} {ccc} 0 & 2 & 1 \\\\ 0 & 2 & -8 \\\\ 2 & 9 & -1 \\end {array} \\right]$$"
   ]
  },
  {
   "cell_type": "code",
   "execution_count": 1,
   "id": "offshore-stretch",
   "metadata": {},
   "outputs": [],
   "source": [
    "import numpy as np"
   ]
  },
  {
   "cell_type": "markdown",
   "id": "animated-cattle",
   "metadata": {},
   "source": [
    "## [Problem 1] Manually calculate the matrix product\n",
    "Solve the matrix product of A and B by hand.\n",
    "\n",
    "Please explain the calculation process using markdown text."
   ]
  },
  {
   "cell_type": "code",
   "execution_count": 2,
   "id": "colonial-despite",
   "metadata": {},
   "outputs": [
    {
     "name": "stdout",
     "output_type": "stream",
     "text": [
      "A = \n",
      "[[-1  2  3]\n",
      " [ 4 -5  6]\n",
      " [ 7  8 -9]]\n",
      "B = \n",
      "[[ 0  2  1]\n",
      " [ 0  2 -8]\n",
      " [ 2  9 -1]]\n"
     ]
    }
   ],
   "source": [
    "a_ndarray = np.array([[-1, 2, 3],\n",
    "                      [4, -5, 6],\n",
    "                      [7, 8, -9]])\n",
    "\n",
    "b_ndarray = np.array([[0, 2, 1],\n",
    "                      [0, 2, -8],\n",
    "                      [2, 9, -1]])\n",
    "\n",
    "print('A = \\n{}'.format(a_ndarray))\n",
    "print('B = \\n{}'.format(b_ndarray))"
   ]
  },
  {
   "cell_type": "code",
   "execution_count": 3,
   "id": "adjacent-friendship",
   "metadata": {},
   "outputs": [
    {
     "name": "stdout",
     "output_type": "stream",
     "text": [
      "C = \n",
      "[[0. 0. 0.]\n",
      " [0. 0. 0.]\n",
      " [0. 0. 0.]]\n",
      "C = AB = \n",
      "[[  6.  29. -20.]\n",
      " [ 12.  52.  38.]\n",
      " [-18. -51. -48.]]\n"
     ]
    }
   ],
   "source": [
    "c_ndarray = np.zeros((3,3))\n",
    "print('C = \\n{}'.format(c_ndarray))\n",
    "\n",
    "for i in range(len(a_ndarray)):\n",
    "   for j in range(len(b_ndarray[0])):\n",
    "       for k in range(len(b_ndarray)):\n",
    "           c_ndarray[i][j] += a_ndarray[i][k] * b_ndarray[k][j]\n",
    "\n",
    "print('C = AB = \\n{}'.format(c_ndarray))"
   ]
  },
  {
   "cell_type": "markdown",
   "id": "thrown-scholarship",
   "metadata": {},
   "source": [
    "> In order to multiply two matrices, matrix A$(n \\times m)$'s no. columns need to be equal to matrix B$(m \\times l)$'s no. rows. So matrix C need to be a $(n \\times l)$ matrix\n",
    "\n",
    "First we use `np.zeros()` to create a $(n \\times l)$ matrix in order to store our result.\n",
    "\n",
    "Then we iterate through each row of matrix A, then each column and row of matrix B to have the multiplying formula.\n",
    "\n",
    "For example:\n",
    "$$c_{12} = a_{11}b_{12} + a_{12}b_{22}\\\\\n",
    "c_{33} = a_{31}b_{13} + a_{32}b_{23}$$"
   ]
  },
  {
   "cell_type": "markdown",
   "id": "earned-gibson",
   "metadata": {},
   "source": [
    "## [Problem 2] Calculation by NumPy function\n",
    "The matrix product is of *NumPy* `np.matmul()` and `np.dot()`, or `@` can be easily calculated by using the operator.\n",
    "\n",
    "Use these to calculate the matrix product."
   ]
  },
  {
   "cell_type": "code",
   "execution_count": 4,
   "id": "other-honey",
   "metadata": {},
   "outputs": [
    {
     "name": "stdout",
     "output_type": "stream",
     "text": [
      "C = \n",
      "[[0. 0. 0.]\n",
      " [0. 0. 0.]\n",
      " [0. 0. 0.]]\n",
      "\n",
      "np.dot()\n",
      "C = AB = \n",
      "[[  6  29 -20]\n",
      " [ 12  52  38]\n",
      " [-18 -51 -48]]\n"
     ]
    }
   ],
   "source": [
    "c_ndarray = np.zeros((3,3))\n",
    "print('C = \\n{}'.format(c_ndarray))\n",
    "c_ndarray = np.dot(a_ndarray,b_ndarray)\n",
    "print('\\nnp.dot()\\nC = AB = \\n{}'.format(c_ndarray))\n",
    "# print(a_ndarray.dot(b_ndarray))"
   ]
  },
  {
   "cell_type": "code",
   "execution_count": 5,
   "id": "married-minute",
   "metadata": {},
   "outputs": [
    {
     "name": "stdout",
     "output_type": "stream",
     "text": [
      "C = \n",
      "[[0. 0. 0.]\n",
      " [0. 0. 0.]\n",
      " [0. 0. 0.]]\n",
      "\n",
      "np.matmul()\n",
      "C = AB = \n",
      "[[  6  29 -20]\n",
      " [ 12  52  38]\n",
      " [-18 -51 -48]]\n"
     ]
    }
   ],
   "source": [
    "c_ndarray = np.zeros((3,3))\n",
    "print('C = \\n{}'.format(c_ndarray))\n",
    "c_ndarray = np.matmul(a_ndarray,b_ndarray)\n",
    "print('\\nnp.matmul()\\nC = AB = \\n{}'.format(c_ndarray))"
   ]
  },
  {
   "cell_type": "code",
   "execution_count": 6,
   "id": "talented-dryer",
   "metadata": {},
   "outputs": [
    {
     "name": "stdout",
     "output_type": "stream",
     "text": [
      "C = \n",
      "[[0. 0. 0.]\n",
      " [0. 0. 0.]\n",
      " [0. 0. 0.]]\n",
      "\n",
      "C = A @ B = \n",
      "[[  6  29 -20]\n",
      " [ 12  52  38]\n",
      " [-18 -51 -48]]\n"
     ]
    }
   ],
   "source": [
    "c_ndarray = np.zeros((3,3))\n",
    "print('C = \\n{}'.format(c_ndarray))\n",
    "c_ndarray = (a_ndarray @ b_ndarray)\n",
    "print('\\nC = A @ B = \\n{}'.format(c_ndarray))"
   ]
  },
  {
   "cell_type": "markdown",
   "id": "fatty-communist",
   "metadata": {},
   "source": [
    "## [Problem 3] Implement the calculation of a certain element"
   ]
  },
  {
   "cell_type": "code",
   "execution_count": 39,
   "id": "after-faculty",
   "metadata": {},
   "outputs": [
    {
     "data": {
      "text/plain": [
       "array([6.])"
      ]
     },
     "execution_count": 39,
     "metadata": {},
     "output_type": "execute_result"
    }
   ],
   "source": [
    "c_ndarray = np.zeros(1)\n",
    "# c_ndarray\n",
    "\n",
    "for k in range(len(b_ndarray)):\n",
    "    c_ndarray += a_ndarray[0][k] * b_ndarray[k][0]\n",
    "\n",
    "c_ndarray"
   ]
  },
  {
   "cell_type": "markdown",
   "id": "joint-surrey",
   "metadata": {},
   "source": [
    "## [Problem 4] Creation of a function that performs matrix multiplication\n",
    "Extend the code in Problem 3 to complete the matrix product scratch implementation. Make it a function that takes matrices A and B as arguments and returns a matrix product."
   ]
  },
  {
   "cell_type": "code",
   "execution_count": 20,
   "id": "atomic-imperial",
   "metadata": {},
   "outputs": [],
   "source": [
    "def mul_matrices(a_ndarray,b_ndarray):\n",
    "    c_ndarray = np.zeros((3,3))\n",
    "    # print('C = \\n{}'.format(c_ndarray))\n",
    "\n",
    "    for i in range(len(a_ndarray)):\n",
    "       for j in range(len(b_ndarray[0])):\n",
    "           for k in range(len(b_ndarray)):\n",
    "               c_ndarray[i][j] += a_ndarray[i][k] * b_ndarray[k][j]\n",
    "\n",
    "    return c_ndarray"
   ]
  },
  {
   "cell_type": "code",
   "execution_count": 21,
   "id": "other-sending",
   "metadata": {},
   "outputs": [
    {
     "data": {
      "text/plain": [
       "array([[  6.,  29., -20.],\n",
       "       [ 12.,  52.,  38.],\n",
       "       [-18., -51., -48.]])"
      ]
     },
     "execution_count": 21,
     "metadata": {},
     "output_type": "execute_result"
    }
   ],
   "source": [
    "mul_matrices(a_ndarray,b_ndarray)"
   ]
  },
  {
   "cell_type": "markdown",
   "id": "guided-princeton",
   "metadata": {},
   "source": [
    "## [Problem 5] Judging the input for which the calculation is not defined\n",
    "The function created in Problem 4 may work even if you enter this array of D and E depending on the implementation method. In this case, improper calculation will be performed. \n",
    "\n",
    "Also, even if an error occurs in the middle, a message is displayed that makes it difficult to directly understand why the error occurred."
   ]
  },
  {
   "cell_type": "code",
   "execution_count": 10,
   "id": "curious-casting",
   "metadata": {},
   "outputs": [],
   "source": [
    "d_ndarray = np.array([[-1, 2, 3], [4, -5, 6]])\n",
    "e_ndarray = np.array([[-9, 8, 7], [6, -5, 4]])"
   ]
  },
  {
   "cell_type": "code",
   "execution_count": 26,
   "id": "considered-making",
   "metadata": {},
   "outputs": [],
   "source": [
    "def judge_mul_matrices(a_ndarray,b_ndarray):\n",
    "    if len(a_ndarray[0]) == len(b_ndarray):\n",
    "        return mul_matrices(a_ndarray,b_ndarray)\n",
    "    else:\n",
    "        print(\"Error! The number of columns in Matrix 1 is not equal to the number of rows in Matrix 2!\")"
   ]
  },
  {
   "cell_type": "code",
   "execution_count": 27,
   "id": "cubic-handle",
   "metadata": {},
   "outputs": [
    {
     "name": "stdout",
     "output_type": "stream",
     "text": [
      "Error! The number of columns in Matrix 1 is not equal to the number of rows in Matrix 2!\n"
     ]
    }
   ],
   "source": [
    "judge_mul_matrices(d_ndarray,e_ndarray)"
   ]
  },
  {
   "cell_type": "markdown",
   "id": "cosmetic-newton",
   "metadata": {},
   "source": [
    "## [Problem 6] Transpose\n",
    "By transposing one of the matrices, the matrix product can be calculated.\n",
    "\n",
    "`np.transpose()` or `.T` Transpose using andattributes to calculate the matrix product."
   ]
  },
  {
   "cell_type": "code",
   "execution_count": 36,
   "id": "clean-ceremony",
   "metadata": {},
   "outputs": [
    {
     "data": {
      "text/plain": [
       "array([[ 33., -28.,   9.],\n",
       "       [-48.,  41.,  -6.],\n",
       "       [  9.,  -6.,  45.]])"
      ]
     },
     "execution_count": 36,
     "metadata": {},
     "output_type": "execute_result"
    }
   ],
   "source": [
    "d_ndarray = d_ndarray.T\n",
    "judge_mul_matrices(d_ndarray,e_ndarray)"
   ]
  }
 ],
 "metadata": {
  "kernelspec": {
   "display_name": "Python 3",
   "language": "python",
   "name": "python3"
  },
  "language_info": {
   "codemirror_mode": {
    "name": "ipython",
    "version": 3
   },
   "file_extension": ".py",
   "mimetype": "text/x-python",
   "name": "python",
   "nbconvert_exporter": "python",
   "pygments_lexer": "ipython3",
   "version": "3.7.7"
  }
 },
 "nbformat": 4,
 "nbformat_minor": 5
}
